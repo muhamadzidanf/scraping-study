{
 "cells": [
  {
   "cell_type": "code",
   "execution_count": 1,
   "id": "263813e8",
   "metadata": {},
   "outputs": [
    {
     "name": "stdout",
     "output_type": "stream",
     "text": [
      "3\n",
      "42\n",
      "42\n",
      "4\n",
      "1\n",
      "5\n",
      "11\n"
     ]
    }
   ],
   "source": [
    "a = [3,42,42,4,1,5,11]\n",
    "for item in a:\n",
    "    print(item)"
   ]
  }
 ],
 "metadata": {
  "kernelspec": {
   "display_name": "Python 3 (ipykernel)",
   "language": "python",
   "name": "python3"
  },
  "language_info": {
   "codemirror_mode": {
    "name": "ipython",
    "version": 3
   },
   "file_extension": ".py",
   "mimetype": "text/x-python",
   "name": "python",
   "nbconvert_exporter": "python",
   "pygments_lexer": "ipython3",
   "version": "3.8.10"
  }
 },
 "nbformat": 4,
 "nbformat_minor": 5
}
